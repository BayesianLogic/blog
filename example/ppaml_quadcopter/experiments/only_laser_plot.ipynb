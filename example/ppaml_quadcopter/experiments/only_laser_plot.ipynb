{
 "metadata": {
  "name": "only_laser_plot"
 }, 
 "nbformat": 2, 
 "worksheets": [
  {
   "cells": [
    {
     "cell_type": "code", 
     "collapsed": true, 
     "input": [
      "import json"
     ], 
     "language": "python", 
     "outputs": [], 
     "prompt_number": 17
    }, 
    {
     "cell_type": "code", 
     "collapsed": true, 
     "input": [
      "def parse_query_results(arr):", 
      "    \"\"\"", 
      "    Take [(log_prob, val_str)] array and return sorted [(prob, val)] array.", 
      "    \"\"\"", 
      "    result = []", 
      "    for log_prob, val_str in arr:", 
      "        prob = np.exp(log_prob)", 
      "        if prob == 0:", 
      "            continue", 
      "        result.append((prob, float(val_str)))", 
      "    # Gotcha: np.sort() sorts all columns, but I need to sort by first column.", 
      "    result.sort()", 
      "    result = np.array(result)", 
      "    result[:, 0] /= np.sum(result[:, 0])", 
      "    return result"
     ], 
     "language": "python", 
     "outputs": [], 
     "prompt_number": 18
    }, 
    {
     "cell_type": "code", 
     "collapsed": true, 
     "input": [
      "data = dict(json.load(open(\"out.json\")))", 
      "xs = parse_query_results(data['x'])", 
      "ys = parse_query_results(data['y'])", 
      "thetas = parse_query_results(data['theta'])"
     ], 
     "language": "python", 
     "outputs": [], 
     "prompt_number": 19
    }, 
    {
     "cell_type": "code", 
     "collapsed": false, 
     "input": [
      "_ = hist(xs[:, 1], weights=xs[:, 0], bins=100)"
     ], 
     "language": "python", 
     "outputs": [
      {
       "output_type": "display_data", 
       "png": "[encoded data removed]"
      }
     ], 
     "prompt_number": 20
    }, 
    {
     "cell_type": "code", 
     "collapsed": false, 
     "input": [
      "_ = hist(ys[:, 1], weights=ys[:, 0], bins=100)"
     ], 
     "language": "python", 
     "outputs": [
      {
       "output_type": "display_data", 
       "png": "[encoded data removed]"
      }
     ], 
     "prompt_number": 21
    }, 
    {
     "cell_type": "code", 
     "collapsed": false, 
     "input": [
      "_ = hist(thetas[:, 1], weights=thetas[:, 0], bins=100)"
     ], 
     "language": "python", 
     "outputs": [
      {
       "output_type": "display_data", 
       "png": "[encoded data removed]"
      }
     ], 
     "prompt_number": 22
    }, 
    {
     "cell_type": "code", 
     "collapsed": true, 
     "input": [
      "def weighted_average(arr):", 
      "    \"\"\"", 
      "    Take [(prob, val)] array and return weighted average of value.", 
      "    \"\"\"", 
      "    return np.sum(arr[:, 0] * arr[:, 1]) / np.sum(arr[:, 0])"
     ], 
     "language": "python", 
     "outputs": [], 
     "prompt_number": 23
    }, 
    {
     "cell_type": "code", 
     "collapsed": false, 
     "input": [
      "weighted_average(xs)"
     ], 
     "language": "python", 
     "outputs": [
      {
       "output_type": "pyout", 
       "prompt_number": 24, 
       "text": [
        "5.0843730497592068"
       ]
      }
     ], 
     "prompt_number": 24
    }, 
    {
     "cell_type": "code", 
     "collapsed": false, 
     "input": [
      "weighted_average(ys)"
     ], 
     "language": "python", 
     "outputs": [
      {
       "output_type": "pyout", 
       "prompt_number": 25, 
       "text": [
        "4.4840742838846435"
       ]
      }
     ], 
     "prompt_number": 25
    }, 
    {
     "cell_type": "code", 
     "collapsed": false, 
     "input": [
      "weighted_average(thetas)"
     ], 
     "language": "python", 
     "outputs": [
      {
       "output_type": "pyout", 
       "prompt_number": 26, 
       "text": [
        "1.43943915047602"
       ]
      }
     ], 
     "prompt_number": 26
    }, 
    {
     "cell_type": "code", 
     "collapsed": true, 
     "input": [], 
     "language": "python", 
     "outputs": [], 
     "prompt_number": 26
    }, 
    {
     "cell_type": "code", 
     "collapsed": true, 
     "input": [], 
     "language": "python", 
     "outputs": []
    }
   ]
  }
 ]
}